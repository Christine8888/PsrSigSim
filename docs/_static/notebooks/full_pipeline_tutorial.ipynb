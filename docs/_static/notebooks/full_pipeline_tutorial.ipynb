{
 "cells": [
  {
   "cell_type": "markdown",
   "metadata": {},
   "source": [
    "# PsrSigSim Example Notebook\n",
    "\n",
    "The purpose of this notebook is to serve as an example notebook to show how the Pulsar Signal Simulator (PsrSigSim) works as well as show off its different capabilities. Full development of the PsrSigSim is ongoing and thus this notebook may change and evolve and should be expected to.\n",
    "\n",
    "We start by importing all the necessary packages needed to run this notebook, in addition to just the PsrSigSim"
   ]
  },
  {
   "cell_type": "code",
   "execution_count": 226,
   "metadata": {},
   "outputs": [],
   "source": [
    "from datetime import datetime\n",
    "startTime = datetime.now()"
   ]
  },
  {
   "cell_type": "code",
   "execution_count": 227,
   "metadata": {},
   "outputs": [
    {
     "name": "stdout",
     "output_type": "stream",
     "text": [
      "The autoreload extension is already loaded. To reload it, use:\n",
      "  %reload_ext autoreload\n"
     ]
    }
   ],
   "source": [
    "# These are all standard packages\n",
    "import numpy as np\n",
    "import scipy as sp\n",
    "import matplotlib.pyplot as plt\n",
    "import os\n",
    "import sys\n",
    "from scipy import stats\n",
    "from astropy import units as u\n",
    "from astropy import table\n",
    "import subprocess\n",
    "# These are more specialized pulsar packages, necessary for this notebook\n",
    "import pdat\n",
    "import pypulse as pp # not required for psrsigsim\n",
    "# import pint packages\n",
    "import pint\n",
    "import pint.models as models\n",
    "import pint.toa as toa\n",
    "import pint.residuals as r\n",
    "import pint.fitter as fit\n",
    "import pint.polycos as polycos\n",
    "\n",
    "# The pulsar signal simulator imports necessary to run the notebook\n",
    "module_path = os.path.abspath(os.path.join('..'))\n",
    "if module_path not in sys.path:\n",
    "    sys.path.append(module_path)\n",
    "import psrsigsim as pss\n",
    "from psrsigsim.utils import make_quant\n",
    "# Some extra magic lines to make things run nicely :)\n",
    "%matplotlib inline\n",
    "\n",
    "%load_ext autoreload\n",
    "%autoreload 2"
   ]
  },
  {
   "cell_type": "markdown",
   "metadata": {},
   "source": [
    "We now will define some convience functions for use later"
   ]
  },
  {
   "cell_type": "code",
   "execution_count": 228,
   "metadata": {},
   "outputs": [],
   "source": [
    "# Define a function for easier plotting later on/throughout the testing\n",
    "def plotsignal(signals, nbins=2048):\n",
    "    # signals can be a list of multiple signals to overplot\n",
    "    for ii in range(len(signals)):\n",
    "        # Define the x axis\n",
    "        phases = np.linspace(0.0, len(signals[ii]), len(signals[ii]))/nbins\n",
    "        # now plot it\n",
    "        plt.plot(phases, signals[ii], label=\"signal %s\" % (ii))\n",
    "    plt.xlim([0.0, np.max(phases)])\n",
    "    plt.xlabel(\"Pulse Phase\")\n",
    "    plt.ylabel(\"Arb. Flux\")\n",
    "    plt.show()\n",
    "    plt.close()"
   ]
  },
  {
   "cell_type": "code",
   "execution_count": 229,
   "metadata": {},
   "outputs": [],
   "source": [
    "# Functions that can be used in-notebook to run command-line commands, not strictly necessary for the PsrSigSim\n",
    "def call(x):\n",
    "    subprocess.call(x,shell=True)\n",
    "    \n",
    "def callvar(x):\n",
    "    variable = subprocess.check_output(x, shell=True)\n",
    "    return variable"
   ]
  },
  {
   "cell_type": "markdown",
   "metadata": {},
   "source": [
    "## Simulating a Signal\n",
    "\n",
    "Here we will go over how to simulate a signal and what the required parameters are. Currently only filterbank-style signals can be simulated. However there are two modes, a 'FOLD' mode which produces coherently folded filterbank data in subintegrations that can be saved to a PSRFITS file, and a 'SEARCH' mode that produces single pulses. Currenly 'SEARCH' or single-pulse simulated data cannot be saved to a PSRFITS files with the PsrSigSim."
   ]
  },
  {
   "cell_type": "markdown",
   "metadata": {},
   "source": [
    "Here we will sgo through an example of simulating a `fold` mode style observation of the millisecond pulsar PSR B1855+09 at 1400 MHz as observed with the Arecibo Telescope. Our pulse profile templates, timing model parameters, and observation parameters come from the NANOGrav 11-yr dataset. \n",
    "\n",
    "We require a few different parameters right off the bat to simulate our signal, so we will first define those parameters, and then initialize our filterbank signal object."
   ]
  },
  {
   "cell_type": "code",
   "execution_count": 230,
   "metadata": {},
   "outputs": [
    {
     "name": "stdout",
     "output_type": "stream",
     "text": [
      "Warning: specified sample rate 0.3819398783998596 MHz < Nyquist frequency 1600.0 MHz\n"
     ]
    }
   ],
   "source": [
    "# define the required filterbank signal parameters\n",
    "f0 = 1380 # center observing frequecy in MHz\n",
    "bw = 800.0 # observation MHz\n",
    "Nf = 512 # number of frequency channels\n",
    "F0 = np.double(186.4940812499314404) # pulsar frequency in Hz\n",
    "f_samp = F0*2048*10**-6 # sample rate of data in MHz, here 2048 bins across the pulse\n",
    "subintlen = 84.64126/64.0 # desired length of fold-mode subintegration in seconds\n",
    "# Now we define our signal\n",
    "signal_Lband = pss.signal.FilterBankSignal(fcent = f0, bandwidth = bw, Nsubband=Nf,\\\n",
    "                                          sample_rate=f_samp, fold=True, sublen=subintlen)"
   ]
  },
  {
   "cell_type": "markdown",
   "metadata": {},
   "source": [
    "Now before we define our pulsar, we need to define the pulse profile shape of the pulsar. This can be done by defining an arbitrary number of Gaussian components, supplying some functional form of the pulse profile, or inputing a data array that defines the pulse profile shape. \n",
    "\n",
    "Here we will use the `pypulse` python package to read the NANOGrav 11-yr 1400 MHz profile PSRFITS file for PSR 1855+09 as a data array, and then input that array as the pulse profile."
   ]
  },
  {
   "cell_type": "code",
   "execution_count": 231,
   "metadata": {},
   "outputs": [
    {
     "name": "stdout",
     "output_type": "stream",
     "text": [
      "Loading: template_files/profiles/L-band/B1855+09.L-wide.PUPPI.11y.x.sum.sm\n",
      "Load time: 0.17 s\n"
     ]
    },
    {
     "data": {
      "image/png": "[encoded data removed]",
      "text/plain": [
       "<Figure size 432x288 with 1 Axes>"
      ]
     },
     "metadata": {
      "needs_background": "light"
     },
     "output_type": "display_data"
    }
   ],
   "source": [
    "# Load the templates\n",
    "template_Lband = \"template_files/profiles/L-band/B1855+09.L-wide.PUPPI.11y.x.sum.sm\"\n",
    "temp_Lband = pp.archive.Archive(template_Lband, lowmem=True)\n",
    "temp_Lband_ar = temp_Lband.getData()\n",
    "# And then plot the profile\n",
    "plt.plot(np.linspace(0.0,1.0,len(temp_Lband_ar)), temp_Lband_ar, c = 'k')\n",
    "plt.ylabel(\"Arb. Flux\")\n",
    "plt.xlabel(\"Pulse Phase\")\n",
    "plt.show()\n",
    "plt.close()"
   ]
  },
  {
   "cell_type": "code",
   "execution_count": 232,
   "metadata": {},
   "outputs": [],
   "source": [
    "# Now we will take the data array and load it into a profile class object\n",
    "# Define the profile, and the phase bins corresponding to each point in the data array\n",
    "prof_Lband = pss.pulsar.DataProfile(temp_Lband_ar,\\\n",
    "                                    phases = None,\\\n",
    "                                   Nchan=signal_Lband.Nchan)"
   ]
  },
  {
   "cell_type": "markdown",
   "metadata": {},
   "source": [
    "Now we will use this profile and define our pulsar object. In addition to the pulse profile, we also need to tell the simulator what the pulsars period is (in seconds), its mean flux (in Jy), and the pulsar's name."
   ]
  },
  {
   "cell_type": "code",
   "execution_count": 233,
   "metadata": {},
   "outputs": [],
   "source": [
    "# Define the necessary parameters\n",
    "period = np.double(1.0)/F0 # seconds\n",
    "flux = 0.004 # Jy, from Demorest et al. 2013\n",
    "psr_name = \"B1855+09\"\n",
    "# Define the pulsar object\n",
    "pulsar = pss.pulsar.Pulsar(period=period, Smean=flux, profiles=prof_Lband, name=psr_name)"
   ]
  },
  {
   "cell_type": "markdown",
   "metadata": {},
   "source": [
    "Now we need to tell the pulsar to use the parameters from the signal class, along with what we would like the full length of the observation to be, to actually make the pulses. Here we are will use the `fold` mode signal defined above, and an observation length such that we will generate 64 subintegrations, the same number as in a standard output file from and NANOGrav 1400 MHz Arecibo observation."
   ]
  },
  {
   "cell_type": "code",
   "execution_count": 234,
   "metadata": {},
   "outputs": [],
   "source": [
    "# Define the observation time, in seconds\n",
    "ObsTime = 84.64126 # seconds\n",
    "# make the pulses\n",
    "pulsar.make_pulses(signal_Lband, tobs = ObsTime)"
   ]
  },
  {
   "cell_type": "markdown",
   "metadata": {},
   "source": [
    "Now we will use our convenience function above to plot the signal that we have simulated. We will plot the full signal as well as just a subsection to better show what it will look like."
   ]
  },
  {
   "cell_type": "code",
   "execution_count": 235,
   "metadata": {},
   "outputs": [
    {
     "data": {
      "image/png": "[encoded data removed]",
      "text/plain": [
       "<Figure size 432x288 with 1 Axes>"
      ]
     },
     "metadata": {
      "needs_background": "light"
     },
     "output_type": "display_data"
    },
    {
     "data": {
      "image/png": "[encoded data removed]",
      "text/plain": [
       "<Figure size 432x288 with 1 Axes>"
      ]
     },
     "metadata": {
      "needs_background": "light"
     },
     "output_type": "display_data"
    }
   ],
   "source": [
    "# We plot just the first frequency channel, but all pulses simulated\n",
    "plotsignal([signal_Lband.data[0,:]])\n",
    "# Now we plot just the first two pulses simulated, also from the first frequency channel\n",
    "plotsignal([signal_Lband.data[0,:4096]])"
   ]
  },
  {
   "cell_type": "markdown",
   "metadata": {},
   "source": [
    "Now that we have generated some initial pulses and data, we can add a few extra effects. Currently, we can disperse our pulses, add scattering delays, and also add different frequency dependent shifts based on FD (or frequency dependent) parameters as defined in Arzourmanian et al. 2016. These FD parameters are polynomial coefficients that account for different frequency dependent effects, such as pulse profile evolution in frequency.\n",
    "\n",
    "For the purpose of this example, we will just disperse our pulses using the known DM (or dispersion measure) for PSR B1855+09. To do this, we will first instantiate our ISM class, and then use the build in function to disperse the data."
   ]
  },
  {
   "cell_type": "code",
   "execution_count": 236,
   "metadata": {},
   "outputs": [
    {
     "name": "stdout",
     "output_type": "stream",
     "text": [
      "98% dispersed in 3.844 seconds."
     ]
    },
    {
     "data": {
      "image/png": "[encoded data removed]",
      "text/plain": [
       "<Figure size 432x288 with 1 Axes>"
      ]
     },
     "metadata": {
      "needs_background": "light"
     },
     "output_type": "display_data"
    }
   ],
   "source": [
    "# First define the dispersion measure\n",
    "dm = 13.299393 # pc cm^-3\n",
    "# Now define the ISM class\n",
    "ism_ob = pss.ism.ISM()\n",
    "# Now we give the ISM class the signal and disperse the data\n",
    "ism_ob.disperse(signal_Lband, dm)\n",
    "# If we plot the same pulses as above, you can see that the phase of the pulse has \n",
    "# been shfited due to the dispersion\n",
    "plotsignal([signal_Lband.data[0,:4096]])"
   ]
  },
  {
   "cell_type": "markdown",
   "metadata": {},
   "source": [
    "Now we need to tell the simulator what telescope we want to use to observe, and what reciever and backend we want to simulate. This is important because the telescope and reciever parameters will determine how much radiometer noise is added to our signal. Currently the simulator has a few Arecibo and Green Bank Telescope system pre-defined. We will use the Arecibo 1400 MHz telescope and receiver already defined in the simulator. However, a person can also define a telescope, reciever, and backend system for any telescope you like.\n",
    "\n",
    "To do this we instantiate our telescope class, and then generate the radiometer noise and add it to the dispersed pulsar signal by the `observe` function in the telescope class."
   ]
  },
  {
   "cell_type": "code",
   "execution_count": 237,
   "metadata": {},
   "outputs": [
    {
     "data": {
      "image/png": "[encoded data removed]",
      "text/plain": [
       "<Figure size 432x288 with 1 Axes>"
      ]
     },
     "metadata": {
      "needs_background": "light"
     },
     "output_type": "display_data"
    }
   ],
   "source": [
    "# Define the telescope class\n",
    "tscope = pss.telescope.telescope.Arecibo()\n",
    "# Now we observe with the telescope; noise=True adds the radiometer noise to thes ignal\n",
    "output = tscope.observe(signal_Lband, pulsar, system=\"Lband_PUPPI\", noise=True)\n",
    "# Now plot the signal as above but with the added radiometer noise\n",
    "plotsignal([signal_Lband.data[0,:4096]])"
   ]
  },
  {
   "cell_type": "markdown",
   "metadata": {},
   "source": [
    "You will notice that with the current set up in our example simulation the radiometer noise is much stronger than the pulsar signal. This is to be expected given our particular set up, however if we were to fold this simulated data more, we would be able to see the pulse signal start to stand out above the noise. Depending on the set up you want for your simulations, the radiometer noise and puslar signal strength will be scaled appropriately.\n",
    "\n",
    "Now, all of this data exists as python data arrays. If you have pulsar software that can analyze data as python arrays, then you can save this data in your favorite format (we recommend hdf5 format) and preform whatever your desired analysis is. However, much existing pulsar data analysis software works directly on PSRFITS files. We currently do not generate a PSRFITS file from scratch (although that feature will come in a future version), but we do use the `pdat` or pulsar data toolbox python package to take an existing PSRFITS file and overwrite the data in and some header information and metadata to save our simulated data to a PSRFITS file that can be analyzed with the well used `PSRCHIVE` software.\n",
    "\n",
    "To do this we need to define a couple of variables. First, we need to have a template PSRFITS file. We also need to have a name for the output PSRFITS file. In addition, we will also need a pulsar par file that contains all the timing parameters that have been simulated here, in order to make sure once the data is saved, if it is manipulated or folded, it is folded correctly."
   ]
  },
  {
   "cell_type": "code",
   "execution_count": 238,
   "metadata": {},
   "outputs": [],
   "source": [
    "# We start by defining these files mentioned above\n",
    "tempfits = \"template_files/puppi_57627_B1855+09_1077_0001.fits\" # template PSRFITS file\n",
    "parfile = \"par_files/B1855+09_NANOGrav_11yv0_example.par\"\n",
    "outfits = \"test_fits.fits\" # name of our output fits file"
   ]
  },
  {
   "cell_type": "code",
   "execution_count": 239,
   "metadata": {},
   "outputs": [
    {
     "name": "stdout",
     "output_type": "stream",
     "text": [
      "(64, 4, 512, 2048)\n",
      "INFO: No pulse numbers found in the TOAs [pint.toa]\n",
      "INFO: Applying clock corrections (include_GPS = True, include_BIPM = True. [pint.toa]\n",
      "INFO: Special observatory location. No clock corrections applied. [pint.observatory.special_locations]\n",
      "INFO: Computing TDB columns. [pint.toa]\n",
      "INFO: Computing positions and velocities of observatories and Earth (planets = False), using DE421 ephemeris [pint.toa]\n",
      "INFO: No pulse numbers found in the TOAs [pint.toa]\n",
      "INFO: Applying clock corrections (include_GPS = True, include_BIPM = True. [pint.toa]\n",
      "INFO: Special observatory location. No clock corrections applied. [pint.observatory.special_locations]\n",
      "INFO: Computing TDB columns. [pint.toa]\n",
      "INFO: Computing positions and velocities of observatories and Earth (planets = False), using DE421 ephemeris [pint.toa]\n",
      "INFO: No pulse numbers found in the TOAs [pint.toa]\n",
      "INFO: Applying clock corrections (include_GPS = True, include_BIPM = True. [pint.toa]\n",
      "INFO: Special observatory location. No clock corrections applied. [pint.observatory.special_locations]\n",
      "INFO: Computing TDB columns. [pint.toa]\n",
      "INFO: Computing positions and velocities of observatories and Earth (planets = False), using DE421 ephemeris [pint.toa]\n"
     ]
    },
    {
     "name": "stderr",
     "output_type": "stream",
     "text": [
      "WARNING: No ephemeris provided to TOAs object or compute_TDBs. Using DE421 [pint.toa]\n",
      "WARNING: No ephemeris provided to TOAs object or compute_TDBs. Using DE421 [pint.toa]\n",
      "WARNING: No ephemeris provided to TOAs object or compute_TDBs. Using DE421 [pint.toa]\n"
     ]
    },
    {
     "name": "stdout",
     "output_type": "stream",
     "text": [
      "\n",
      "Finished writing and saving the file\n"
     ]
    }
   ],
   "source": [
    "# Now we load our template fits file into the simulator psrfits class\n",
    "pfit = pss.io.PSRFITS(path=outfits, template=tempfits, fits_mode='copy', obs_mode='PSR')\n",
    "# We use a build in function to get the signal class parameters needed to write header data\n",
    "pfit._get_signal_params(signal = signal_Lband) \n",
    "\"\"\"\n",
    "Now we save the data. Much of the inputs here are used to generate polycos to write to \n",
    "the PSRFITS file so that the data can be folded correctly. `phaseconnect` may be set to \n",
    "`False` in which case all following inputs are not required, however the saved data may \n",
    "not appropriately phase connect the pulses and it may not be suitable for pulsar timing\n",
    "experiments.\n",
    "\n",
    "NOTE: Currently the `PINT` python package is required to generate the polycos and is needed\n",
    "for the phase connection. \n",
    "\"\"\"\n",
    "pfit.save(signal_Lband, pulsar, phaseconnect = True, parfile = parfile, \\\n",
    "          MJD_start = 55999.9861, segLength = 60.0,\\\n",
    "          inc_len = 0.0, ref_MJD = 56000.0, usePint = True)"
   ]
  },
  {
   "cell_type": "markdown",
   "metadata": {},
   "source": [
    "We have now saved our data to a PSRFITS file called `test_fits.fits`. This file can be folded and processed with `PSRCHIVE` for any number of projects you may think of. We will show an example below where we simulate four different NANOGrav-style observations of B1855+09 at two different MJDs and two different frequencies, get TOAs from PSRCHIVE, and then get timing residuals with the `PINT` python package."
   ]
  },
  {
   "cell_type": "markdown",
   "metadata": {},
   "source": [
    "## Simulating a Single-Pulse Signal\n",
    "\n",
    "Here we will show an example of generating a single-pulse filterbank signal. The inputs are much the same as above, however the capability to save this single-pulse data to a `SEARCH` mode PSRFITS file has not yet been added to the PsrSigSim. The procedure for generating single-pulse data follows much in the way that folded data does however.\n",
    "\n",
    "We note that the same variables required to make a `fold` mode signal (e.g. observing frequency, bandwidth, period, etc.) are also required, however as we have defined these values above we do not redefine them here."
   ]
  },
  {
   "cell_type": "code",
   "execution_count": 240,
   "metadata": {},
   "outputs": [
    {
     "name": "stdout",
     "output_type": "stream",
     "text": [
      "Warning: specified sample rate 0.3819398783998596 MHz < Nyquist frequency 1600.0 MHz\n"
     ]
    }
   ],
   "source": [
    "# All values needed to define the signal are defined above\n",
    "# The only change here is to set fold=False (no input is given for sublen field)\n",
    "signal_Lband_sp = pss.signal.FilterBankSignal(fcent = f0, bandwidth = bw, Nsubband=Nf,\\\n",
    "                                          sample_rate=f_samp, fold=False)"
   ]
  },
  {
   "cell_type": "markdown",
   "metadata": {},
   "source": [
    "And that's the only major change. We note that single pulse data will take up a _much_ larger amount of space than folded data, so we will set our observation length here to be just 3 pulse periods, however all other parts remain the same"
   ]
  },
  {
   "cell_type": "code",
   "execution_count": 241,
   "metadata": {},
   "outputs": [
    {
     "data": {
      "image/png": "[encoded data removed]",
      "text/plain": [
       "<Figure size 432x288 with 1 Axes>"
      ]
     },
     "metadata": {
      "needs_background": "light"
     },
     "output_type": "display_data"
    }
   ],
   "source": [
    "# We define the pulsar; NOTE - pulse profile object was defined above\n",
    "pulsar_sp = pss.pulsar.Pulsar(period=period, Smean=flux, profiles=prof_Lband, name=psr_name)\n",
    "# Now we set the observation time\n",
    "ObsTime_sp = 3*period # seconds\n",
    "# make the pulses\n",
    "pulsar_sp.make_pulses(signal_Lband_sp, tobs = ObsTime_sp)\n",
    "# We plot just the first frequency channel, but all pulses simulated\n",
    "plotsignal([signal_Lband_sp.data[0,:]])"
   ]
  },
  {
   "cell_type": "markdown",
   "metadata": {},
   "source": [
    "Now we run the rest of the simulation exactly as above, with some plots"
   ]
  },
  {
   "cell_type": "code",
   "execution_count": 242,
   "metadata": {},
   "outputs": [
    {
     "name": "stdout",
     "output_type": "stream",
     "text": [
      "98% dispersed in 0.276 seconds."
     ]
    },
    {
     "data": {
      "image/png": "[encoded data removed]",
      "text/plain": [
       "<Figure size 432x288 with 1 Axes>"
      ]
     },
     "metadata": {
      "needs_background": "light"
     },
     "output_type": "display_data"
    }
   ],
   "source": [
    "ism_ob = pss.ism.ISM()\n",
    "# Now we give the ISM class the signal and disperse the data\n",
    "ism_ob.disperse(signal_Lband_sp, dm)\n",
    "# If we plot the same pulses as above, you can see that the phase of the pulse has \n",
    "# been shfited due to the dispersion\n",
    "plotsignal([signal_Lband_sp.data[0,:]])"
   ]
  },
  {
   "cell_type": "code",
   "execution_count": 243,
   "metadata": {},
   "outputs": [
    {
     "data": {
      "image/png": "[encoded data removed]",
      "text/plain": [
       "<Figure size 432x288 with 1 Axes>"
      ]
     },
     "metadata": {
      "needs_background": "light"
     },
     "output_type": "display_data"
    }
   ],
   "source": [
    "# Define the telescope class\n",
    "tscope = pss.telescope.telescope.Arecibo()\n",
    "# Now we observe with the telescope; noise=True adds the radiometer noise to thes ignal\n",
    "output = tscope.observe(signal_Lband_sp, pulsar, system=\"Lband_PUPPI\", noise=True)\n",
    "# Now plot the signal as above but with the added radiometer noise\n",
    "plotsignal([signal_Lband_sp.data[0,:4096]])"
   ]
  },
  {
   "cell_type": "markdown",
   "metadata": {},
   "source": [
    "and that's all there is to it to simulate single-pulse filterbank data. In a future version of the simulator we will be able to save this single pulse data to PSRFITS files as well. "
   ]
  },
  {
   "cell_type": "markdown",
   "metadata": {},
   "source": [
    "## Simulating a Dataset\n",
    "\n",
    "Here we will use the same methods as used to generate a single simulated `fold` mode observation of PSR B1855+09 and save it as a PSRFITS file, and generate a few obseravations at different MJDs and different observing frequencies. We will again use NANOGrav 11-yr pulse profile templates and the standard NANOGrav observing parameters to generate the dataset.\n",
    "\n",
    "We note that the 1400 MHz simulated observation will be a factor of about 15 shorter than is standard for space and time purposes with this example notebook. We also note that the simulations made here are extrememly simplistic; they assume that the simulated data is barycentered and the only additional delay is the dispersion delay. There is not solar system delay, pulse period spin down, etc. (though we plan to include that in a future version). \n",
    "\n",
    "We offer some functions to get TOAs and timing residuals with PINT from this simulated dataset given these simplified models below as well. "
   ]
  },
  {
   "cell_type": "code",
   "execution_count": 244,
   "metadata": {},
   "outputs": [],
   "source": [
    "# We define all variables needed for the simulation at the begining.\n",
    "dm = 13.299393 # pc cm^-3\n",
    "F0 = np.double(186.4940812499314404) # pulsar frequency, Hz\n",
    "period = np.double(1.0)/F0 # pulsar period, seconds\n",
    "bw = 800.0 # bandwidth, MHz\n",
    "Nf = 512 # number of frequency channels\n",
    "f0 = 1380 # central observing frequency, MHz\n",
    "ObsTime = 84.64126 # total observing time, seconds\n",
    "telescope = \"Arecibo\" # Telescope name (for default telescopes)\n",
    "psr_name = \"B1855+09\" # pulsar name\n",
    "flux = 0.004 # mean flux, Jy (from Demorest et al. 2013)\n",
    "f_samp = F0*2048*10**-6 # sampling rate, chosen to be 2048 bins per profile\n",
    "subintlen = 84.64126/64.0 # length of subintegration, seconds"
   ]
  },
  {
   "cell_type": "code",
   "execution_count": 245,
   "metadata": {},
   "outputs": [
    {
     "name": "stdout",
     "output_type": "stream",
     "text": [
      "Loading: template_files/profiles/L-band/B1855+09.L-wide.PUPPI.11y.x.sum.sm\n",
      "Load time: 0.21 s\n"
     ]
    },
    {
     "data": {
      "image/png": "[encoded data removed]",
      "text/plain": [
       "<Figure size 432x288 with 1 Axes>"
      ]
     },
     "metadata": {
      "needs_background": "light"
     },
     "output_type": "display_data"
    },
    {
     "name": "stdout",
     "output_type": "stream",
     "text": [
      "Loading: template_files/profiles/430_MHz/B1855+09.430.PUPPI.11y.x.sum.sm\n",
      "Load time: 0.16 s\n"
     ]
    },
    {
     "data": {
      "image/png": "[encoded data removed]",
      "text/plain": [
       "<Figure size 432x288 with 1 Axes>"
      ]
     },
     "metadata": {
      "needs_background": "light"
     },
     "output_type": "display_data"
    }
   ],
   "source": [
    "# Now we load two different pulse profile templates with pypulse\n",
    "# both are from the NANOGrav 11-yr data release; start with 1400 MHz profile\n",
    "template_Lband = \"template_files/profiles/L-band/B1855+09.L-wide.PUPPI.11y.x.sum.sm\"\n",
    "temp_Lband = pp.archive.Archive(template_Lband, lowmem=True)\n",
    "temp_Lband_ar = temp_Lband.getData()\n",
    "# Plot the profile\n",
    "plt.plot(temp_Lband_ar)\n",
    "plt.ylabel(\"Arb. Flux\")\n",
    "plt.xlabel(\"Pulse Phase\")\n",
    "plt.show()\n",
    "plt.close()\n",
    "# and the 430 MHz\n",
    "template_430 = \"template_files/profiles/430_MHz/B1855+09.430.PUPPI.11y.x.sum.sm\"\n",
    "temp_430 = pp.archive.Archive(template_430, lowmem=True)\n",
    "temp_430_ar = temp_430.getData()\n",
    "# Plot the profile\n",
    "plt.plot(temp_430_ar)\n",
    "plt.ylabel(\"Arb. Flux\")\n",
    "plt.xlabel(\"Pulse Phase\")\n",
    "plt.show()\n",
    "plt.close()"
   ]
  },
  {
   "cell_type": "markdown",
   "metadata": {},
   "source": [
    "Now we will loop through the different simulate steps as described above. The looping will allow us to save the simulated data at different MJDs but retain a phase connection between the files. We will separate the data by 30 days, and run the 1400 MHz and 430 MHz observations separately. "
   ]
  },
  {
   "cell_type": "code",
   "execution_count": 246,
   "metadata": {},
   "outputs": [
    {
     "name": "stdout",
     "output_type": "stream",
     "text": [
      "Warning: specified sample rate 0.3819398783998596 MHz < Nyquist frequency 1600.0 MHz\n",
      "98% dispersed in 3.795 seconds.(64, 4, 512, 2048)\n",
      "INFO: No pulse numbers found in the TOAs [pint.toa]\n",
      "INFO: Applying clock corrections (include_GPS = True, include_BIPM = True. [pint.toa]\n",
      "INFO: Special observatory location. No clock corrections applied. [pint.observatory.special_locations]\n",
      "INFO: Computing TDB columns. [pint.toa]\n",
      "INFO: Computing positions and velocities of observatories and Earth (planets = False), using DE421 ephemeris [pint.toa]\n",
      "INFO: No pulse numbers found in the TOAs [pint.toa]\n",
      "INFO: Applying clock corrections (include_GPS = True, include_BIPM = True. [pint.toa]\n",
      "INFO: Special observatory location. No clock corrections applied. [pint.observatory.special_locations]\n",
      "INFO: Computing TDB columns. [pint.toa]\n",
      "INFO: Computing positions and velocities of observatories and Earth (planets = False), using DE421 ephemeris [pint.toa]\n",
      "INFO: No pulse numbers found in the TOAs [pint.toa]\n",
      "INFO: Applying clock corrections (include_GPS = True, include_BIPM = True. [pint.toa]\n",
      "INFO: Special observatory location. No clock corrections applied. [pint.observatory.special_locations]\n",
      "INFO: Computing TDB columns. [pint.toa]\n",
      "INFO: Computing positions and velocities of observatories and Earth (planets = False), using DE421 ephemeris [pint.toa]\n"
     ]
    },
    {
     "name": "stderr",
     "output_type": "stream",
     "text": [
      "WARNING: No ephemeris provided to TOAs object or compute_TDBs. Using DE421 [pint.toa]\n",
      "WARNING: No ephemeris provided to TOAs object or compute_TDBs. Using DE421 [pint.toa]\n",
      "WARNING: No ephemeris provided to TOAs object or compute_TDBs. Using DE421 [pint.toa]\n"
     ]
    },
    {
     "name": "stdout",
     "output_type": "stream",
     "text": [
      "\n",
      "Finished writing and saving the file\n",
      "Warning: specified sample rate 0.3819398783998596 MHz < Nyquist frequency 1600.0 MHz\n",
      "98% dispersed in 3.862 seconds.(64, 4, 512, 2048)\n",
      "INFO: No pulse numbers found in the TOAs [pint.toa]\n",
      "INFO: Applying clock corrections (include_GPS = True, include_BIPM = True. [pint.toa]\n",
      "INFO: Special observatory location. No clock corrections applied. [pint.observatory.special_locations]\n",
      "INFO: Computing TDB columns. [pint.toa]\n",
      "INFO: Computing positions and velocities of observatories and Earth (planets = False), using DE421 ephemeris [pint.toa]\n",
      "INFO: No pulse numbers found in the TOAs [pint.toa]\n",
      "INFO: Applying clock corrections (include_GPS = True, include_BIPM = True. [pint.toa]\n",
      "INFO: Special observatory location. No clock corrections applied. [pint.observatory.special_locations]\n",
      "INFO: Computing TDB columns. [pint.toa]\n",
      "INFO: Computing positions and velocities of observatories and Earth (planets = False), using DE421 ephemeris [pint.toa]\n",
      "INFO: No pulse numbers found in the TOAs [pint.toa]\n",
      "INFO: Applying clock corrections (include_GPS = True, include_BIPM = True. [pint.toa]\n",
      "INFO: Special observatory location. No clock corrections applied. [pint.observatory.special_locations]\n",
      "INFO: Computing TDB columns. [pint.toa]\n",
      "INFO: Computing positions and velocities of observatories and Earth (planets = False), using DE421 ephemeris [pint.toa]\n"
     ]
    },
    {
     "name": "stderr",
     "output_type": "stream",
     "text": [
      "WARNING: No ephemeris provided to TOAs object or compute_TDBs. Using DE421 [pint.toa]\n",
      "WARNING: No ephemeris provided to TOAs object or compute_TDBs. Using DE421 [pint.toa]\n",
      "WARNING: No ephemeris provided to TOAs object or compute_TDBs. Using DE421 [pint.toa]\n"
     ]
    },
    {
     "name": "stdout",
     "output_type": "stream",
     "text": [
      "\n",
      "Finished writing and saving the file\n"
     ]
    }
   ],
   "source": [
    "# Now lets make the L-band simulated data; We will loop through a few times\n",
    "inc_lens = [0.0,30.0]\n",
    "tempfits = \"template_files/puppi_57627_B1855+09_1077_0001.fits\"\n",
    "parfile = \"par_files/B1855+09_NANOGrav_11yv0_example.par\"\n",
    "\n",
    "# Now loop through\n",
    "for ii in range(len(inc_lens)):\n",
    "    #start by defining the signal\n",
    "    signal_Lband = pss.signal.FilterBankSignal(fcent = f0, bandwidth = bw, Nsubband=Nf,\\\n",
    "                                          sample_rate=f_samp, fold=True, sublen=subintlen)\n",
    "    # Define the profile\n",
    "    prof_Lband = pss.pulsar.DataProfile(temp_Lband_ar, phases = None, \\\n",
    "                                        Nchan=signal_Lband.Nchan)\n",
    "    # Define the pulsar\n",
    "    pulsar = pss.pulsar.Pulsar(period=period, Smean=flux, profiles=prof_Lband, \\\n",
    "                               name=psr_name)\n",
    "    # make the pulses\n",
    "    pulsar.make_pulses(signal_Lband, tobs = ObsTime)\n",
    "    # Define ISM and disperse the data\n",
    "    ism_ob = pss.ism.ISM()\n",
    "    ism_ob.disperse(signal_Lband, dm)\n",
    "    # Define telescope and add radiometer noise\n",
    "    tscope = pss.telescope.telescope.Arecibo()\n",
    "    out_array = tscope.observe(signal_Lband, pulsar, system=\"Lband_PUPPI\", noise=True)\n",
    "    # Get our template PSRFITS file\n",
    "    fitspath = 'test_fits_Lband'+str(ii+1)+'.fits'\n",
    "    pfit = pss.io.PSRFITS(path=fitspath, template=tempfits, fits_mode='copy', \\\n",
    "                          obs_mode='PSR')\n",
    "    pfit._get_signal_params(signal = signal_Lband) \n",
    "    # Now save the data\n",
    "    pfit.save(signal_Lband, pulsar, phaseconnect = True, parfile = parfile, \\\n",
    "              MJD_start = 55999.9861+inc_lens[ii],segLength = 60.0,\\\n",
    "              inc_len = inc_lens[ii], ref_MJD = 56000.0, usePint = True)"
   ]
  },
  {
   "cell_type": "code",
   "execution_count": 247,
   "metadata": {},
   "outputs": [
    {
     "name": "stdout",
     "output_type": "stream",
     "text": [
      "Warning: specified sample rate 0.3819398783998596 MHz < Nyquist frequency 200.0 MHz\n",
      "98% dispersed in 1.189 seconds.(113, 4, 64, 2048)\n",
      "INFO: No pulse numbers found in the TOAs [pint.toa]\n",
      "INFO: Applying clock corrections (include_GPS = True, include_BIPM = True. [pint.toa]\n",
      "INFO: Special observatory location. No clock corrections applied. [pint.observatory.special_locations]\n",
      "INFO: Computing TDB columns. [pint.toa]\n",
      "INFO: Computing positions and velocities of observatories and Earth (planets = False), using DE421 ephemeris [pint.toa]\n",
      "INFO: No pulse numbers found in the TOAs [pint.toa]\n",
      "INFO: Applying clock corrections (include_GPS = True, include_BIPM = True. [pint.toa]\n",
      "INFO: Special observatory location. No clock corrections applied. [pint.observatory.special_locations]\n",
      "INFO: Computing TDB columns. [pint.toa]\n",
      "INFO: Computing positions and velocities of observatories and Earth (planets = False), using DE421 ephemeris [pint.toa]\n",
      "INFO: No pulse numbers found in the TOAs [pint.toa]\n",
      "INFO: Applying clock corrections (include_GPS = True, include_BIPM = True. [pint.toa]\n",
      "INFO: Special observatory location. No clock corrections applied. [pint.observatory.special_locations]\n",
      "INFO: Computing TDB columns. [pint.toa]\n",
      "INFO: Computing positions and velocities of observatories and Earth (planets = False), using DE421 ephemeris [pint.toa]\n"
     ]
    },
    {
     "name": "stderr",
     "output_type": "stream",
     "text": [
      "WARNING: No ephemeris provided to TOAs object or compute_TDBs. Using DE421 [pint.toa]\n",
      "WARNING: No ephemeris provided to TOAs object or compute_TDBs. Using DE421 [pint.toa]\n",
      "WARNING: No ephemeris provided to TOAs object or compute_TDBs. Using DE421 [pint.toa]\n"
     ]
    },
    {
     "name": "stdout",
     "output_type": "stream",
     "text": [
      "\n",
      "Finished writing and saving the file\n",
      "Warning: specified sample rate 0.3819398783998596 MHz < Nyquist frequency 200.0 MHz\n",
      "98% dispersed in 1.156 seconds.(113, 4, 64, 2048)\n",
      "INFO: No pulse numbers found in the TOAs [pint.toa]\n",
      "INFO: Applying clock corrections (include_GPS = True, include_BIPM = True. [pint.toa]\n",
      "INFO: Special observatory location. No clock corrections applied. [pint.observatory.special_locations]\n",
      "INFO: Computing TDB columns. [pint.toa]\n",
      "INFO: Computing positions and velocities of observatories and Earth (planets = False), using DE421 ephemeris [pint.toa]\n",
      "INFO: No pulse numbers found in the TOAs [pint.toa]\n",
      "INFO: Applying clock corrections (include_GPS = True, include_BIPM = True. [pint.toa]\n",
      "INFO: Special observatory location. No clock corrections applied. [pint.observatory.special_locations]\n",
      "INFO: Computing TDB columns. [pint.toa]\n",
      "INFO: Computing positions and velocities of observatories and Earth (planets = False), using DE421 ephemeris [pint.toa]\n",
      "INFO: No pulse numbers found in the TOAs [pint.toa]\n",
      "INFO: Applying clock corrections (include_GPS = True, include_BIPM = True. [pint.toa]\n",
      "INFO: Special observatory location. No clock corrections applied. [pint.observatory.special_locations]\n",
      "INFO: Computing TDB columns. [pint.toa]\n",
      "INFO: Computing positions and velocities of observatories and Earth (planets = False), using DE421 ephemeris [pint.toa]\n"
     ]
    },
    {
     "name": "stderr",
     "output_type": "stream",
     "text": [
      "WARNING: No ephemeris provided to TOAs object or compute_TDBs. Using DE421 [pint.toa]\n",
      "WARNING: No ephemeris provided to TOAs object or compute_TDBs. Using DE421 [pint.toa]\n",
      "WARNING: No ephemeris provided to TOAs object or compute_TDBs. Using DE421 [pint.toa]\n"
     ]
    },
    {
     "name": "stdout",
     "output_type": "stream",
     "text": [
      "\n",
      "Finished writing and saving the file\n"
     ]
    }
   ],
   "source": [
    "# Now do the 430 MHz data; redefine some variables for the 430 MHz data\n",
    "Nf = 64 # number of frequency channels\n",
    "bw = 100.0 # bandwidth, MHz\n",
    "f0 = 430 # center observing frequency, MHz\n",
    "ObsTime = 1203.8455 # total observation time, seconds\n",
    "subintlen =1203.8455/113.0 # subintegration length, seconds\n",
    "flux = 0.0246 # mean flux, Jy (from Demorest et al. 2013)\n",
    "\n",
    "# Now define files and values necessary for the observation.\n",
    "inc_lens = [0.1, 30.1] # slightly offset from the 1400 MHz observations\n",
    "tempfits = \"template_files/puppi_57627_B1855+09_1075_0001.fits\"\n",
    "parfile = \"par_files/B1855+09_NANOGrav_11yv0_example.par\"\n",
    "\n",
    "# Now loop through\n",
    "for ii in range(len(inc_lens)):\n",
    "    #start by defining the signal\n",
    "    signal_430 = pss.signal.FilterBankSignal(fcent = f0, bandwidth = bw, Nsubband=Nf,\\\n",
    "                                          sample_rate=f_samp, fold=True, sublen=subintlen)\n",
    "    # Define the profile\n",
    "    prof_430 = pss.pulsar.DataProfile(temp_430_ar, phases = None, \\\n",
    "                                        Nchan=signal_430.Nchan)\n",
    "    # Define the pulsar\n",
    "    pulsar = pss.pulsar.Pulsar(period=period, Smean=flux, profiles=prof_430, name=psr_name)\n",
    "    # make the pulses\n",
    "    pulsar.make_pulses(signal_430, tobs = ObsTime)\n",
    "    # Define ISM and disperse the data\n",
    "    ism_ob = pss.ism.ISM()\n",
    "    ism_ob.disperse(signal_430, dm)\n",
    "    # Define telescope and add radiometer noise\n",
    "    tscope = pss.telescope.telescope.Arecibo()\n",
    "    out_array = tscope.observe(signal_430, pulsar, system=\"430_PUPPI\", noise=True)\n",
    "    # Get our template PSRFITS file\n",
    "    fitspath = 'test_fits_430'+str(ii+1)+'.fits'\n",
    "    pfit = pss.io.PSRFITS(path=fitspath, template=tempfits, fits_mode='copy', \\\n",
    "                          obs_mode='PSR')\n",
    "    pfit._get_signal_params(signal = signal_430) \n",
    "    # Now save the data\n",
    "    pfit.save(signal_430, pulsar, phaseconnect = True, parfile = parfile, \\\n",
    "              MJD_start = 55999.9861+inc_lens[ii], segLength = 60.0,\\\n",
    "              inc_len = inc_lens[ii], ref_MJD = 56000.0, usePint = True)"
   ]
  },
  {
   "cell_type": "markdown",
   "metadata": {},
   "source": [
    "## Timing Simulated Pulsars\n",
    "\n",
    "Now that we've simulated our pulsar data we want to try to time our simulated pulsars. The PSRFITS file that we have saved the simulated data into are compatible with PSRCHIVE, so we can get TOAs from our pulsars with standard software. We can then use the output tim file the same way as any other tim file, and can get timing residuals from TEMPO, TEMPO2, PINT, or your other favorite pulsar timing software. Here we will use PSRCHIVE to get our TOAs and then obtain residuals with PINT. \n",
    "\n",
    "The dataset that we will analyze and time is the dataset for B1855+09 at two different frequency and two different days above.\n",
    "\n",
    "To do this nicely, we have set up some conveniece functions to get the TOAs from the simulated fits file, combine the TOAs all into one tim file, and then get the residuals and plot them with PINT. We start by defining these functions."
   ]
  },
  {
   "cell_type": "code",
   "execution_count": 248,
   "metadata": {},
   "outputs": [],
   "source": [
    "# Define a function to get the TOAs in the correct format\n",
    "\n",
    "# and we define a function to get TOAs from the simulated data\n",
    "def getSimTOAs(fitsfiles, tempfile, scrunch = False, nchan = 64, nsubint = 1, npol = 1):\n",
    "    \"\"\"\n",
    "    This function will take a single or list of fitsfiles of simulated data and run \n",
    "    PSRCHIVE calls to get TOAs from the simulated fits files, and scrunch the data to a \n",
    "    number of frequency channels and subintegrations is desired. It then also barycenters\n",
    "    all of the TOAs (e.g. replaces the observatory code with '@') and also saves all the\n",
    "    TOAs as one big file with \"_ALL.tim\" at the end. The inputs are as follows:\n",
    "    fitsfiles [string] - a single or list of fits file names (and paths to) to get TOAs \n",
    "                        from\n",
    "    tempfile [string] - Profile template fits file to make TOAs with (since we are only\n",
    "                        using PSRCHIVE for now)\n",
    "    scrunch [bool] - if False, don't manipulate the data, just get TOAs. If True, we will\n",
    "              first scrunch the fits files to the number of frequency channels (nchan),\n",
    "              subintegrations (nsubint), and polarizations (npol), given as input.\n",
    "              The new fits files will be stored in the same place as the originals with\n",
    "              the extension: .f'nchan't'nsubint'p'npol'\n",
    "    \"\"\"\n",
    "    # If a single fitsfile string, put it into a list\n",
    "    if isinstance(fitsfiles, str):\n",
    "        fitsfiles = [fitsfiles]\n",
    "    # Now check if we want to scrunch the files and if so do it\n",
    "    if scrunch:\n",
    "        # figure out the factor we need to scrunch; start with frequency\n",
    "        if nchan == 1:\n",
    "            freq_flag = \" -F \"\n",
    "        else:\n",
    "            freq_flag = \" --setnchn %s \" % (nchan)\n",
    "        # then polarization\n",
    "        if npol == 1:\n",
    "            pol_flag = \" -p \"\n",
    "        else:\n",
    "            pol_flag = \"\" # don't thing we can scrunch to 2 from 4, not sure though\n",
    "        # and subintegrations\n",
    "        if nsubint == 1:\n",
    "            sub_flag = \" -T \"\n",
    "        else:\n",
    "            sub_flag = \" --setnsub %s \" % (nsubint)\n",
    "        # Now put it all together\n",
    "        scrunchfits = []\n",
    "        ext = \"f%st%sp%s\" % (nchan, nsubint, npol)\n",
    "        for ff in fitsfiles:\n",
    "            scrunchcall = \"pam -e \" + ext + freq_flag + pol_flag + sub_flag + ff\n",
    "            call(scrunchcall)\n",
    "            scrunchfits.append(ff.split(\".\")[0]+\".\"+ext)\n",
    "        # Then reassign the fits files if we needed to scrunch the,\n",
    "        fitsfiles = scrunchfits\n",
    "\n",
    "    # Now once we've scrunched we get the TOAs # IPTA does not work with tempo2 on this machine for some reason\n",
    "    TOAcall = \"pat -A FDM -e mcmc=0 -C chan -C subint -C snr -C wt  -C rcvr:name -C be:name -f tempo2 -s %s \"\\\n",
    "                % (tempfile)\n",
    "    timfiles = []\n",
    "    for ff in fitsfiles:\n",
    "        print(ff)\n",
    "        call(TOAcall+\"%s > %s.tim\" % (ff, ff))\n",
    "        timfiles.append(ff+\".tim\")\n",
    "    # now we need to tell the tim files that the TOAs are barycentred\n",
    "    alltimlines = [\"FORMAT 1 \\n\"]\n",
    "    for t_f in timfiles:\n",
    "        # Go through the tim file line by line\n",
    "        lines = []\n",
    "        with open(t_f, 'r') as tf:\n",
    "            for line in tf:\n",
    "                # Get other necessary lines\n",
    "                if \"FORMAT\" in line:\n",
    "                    lines.append(line)\n",
    "                # replace the observatory codes and receiver name and add the lines\n",
    "                elif 'ao' in line:\n",
    "                    newline = line.replace('ao', '@')\n",
    "                    newline = newline.replace(\"-rcvr:name lbw\", \"-fe L-wide\")\n",
    "                    newline = newline.replace(\"-rcvr:name 430\", \"-fe 430\")\n",
    "                    if \"-fe L-wide\" in newline:\n",
    "                        newline = newline.replace(\"-be:name PUPPI\", \"-f L-wide_PUPPI\")\n",
    "                    elif \"-fe 430\" in newline:\n",
    "                        newline = newline.replace(\"-be:name PUPPI\", \"-f 430_PUPPI\")\n",
    "                    lines.append(newline)\n",
    "                    alltimlines.append(newline)\n",
    "                elif 'gbt' in line:\n",
    "                    newline = line.replace('gbt', '@')\n",
    "                    newline = newline.replace(\"-rcvr:name lbw\", \"-fe L-wide\")\n",
    "                    newline = newline.replace(\"-rcvr:name 430\", \"-fe 430\")\n",
    "                    if \"-fe L-wide\" in newline:\n",
    "                        newline = newline.replace(\"-be:name PUPPI\", \"-f L-wide_PUPPI\")\n",
    "                    elif \"-fe 430\" in newline:\n",
    "                        newline = newline.replace(\"-be:name PUPPI\", \"-f 430_PUPPI\")\n",
    "                    lines.append(newline)\n",
    "                    alltimlines.append(newline)\n",
    "                elif line.split()[4] == '0':\n",
    "                    split_line = line.split()\n",
    "                    split_line[4] = '@'\n",
    "                    newline = \"\"\n",
    "                    for val in split_line:\n",
    "                        if val == split_line[0]:\n",
    "                            newline += val\n",
    "                        else:\n",
    "                            newline += \" %s\" % (val)\n",
    "                    newline += \" \\n\"\n",
    "                    newline = newline.replace(\"-rcvr:name lbw\", \"-fe L-wide\")\n",
    "                    newline = newline.replace(\"-rcvr:name 430\", \"-fe 430\")\n",
    "                    if \"-fe L-wide\" in newline:\n",
    "                        newline = newline.replace(\"-be:name PUPPI\", \"-f L-wide_PUPPI\")\n",
    "                    elif \"-fe 430\" in newline:\n",
    "                        newline = newline.replace(\"-be:name PUPPI\", \"-f 430_PUPPI\")\n",
    "                    lines.append(newline)\n",
    "                    alltimlines.append(newline)\n",
    "                else:\n",
    "                    newline = line.replace(\"-rcvr:name lbw\", \"-fe L-wide\")\n",
    "                    newline = newline.replace(\"-rcvr:name 430\", \"-fe 430\")\n",
    "                    if \"-fe L-wide\" in newline:\n",
    "                        newline = newline.replace(\"-be:name PUPPI\", \"-f L-wide_PUPPI\")\n",
    "                    elif \"-fe 430\" in newline:\n",
    "                        newline = newline.replace(\"-be:name PUPPI\", \"-f 430_PUPPI\")\n",
    "                    lines.append(newline)\n",
    "                    alltimlines.append(newline)\n",
    "            tf.close()\n",
    "        # now we write out the new file\n",
    "        with open(t_f, 'w') as nt:\n",
    "            nt.writelines(lines)\n",
    "            nt.close()\n",
    "    # Now write one big file with all the TOAs in it\n",
    "    fulltim = timfiles[0].split('.ti')[0]+'_ALL.tim'\n",
    "    print(\"All simulated TOAs can be found in:\", fulltim)\n",
    "    with open(fulltim, 'w') as ft:\n",
    "        ft.writelines(alltimlines)\n",
    "        ft.close()\n",
    "    \n",
    "    # and return the name of this last fits file\n",
    "    return fulltim\n",
    "    "
   ]
  },
  {
   "cell_type": "code",
   "execution_count": 249,
   "metadata": {},
   "outputs": [],
   "source": [
    "# We define a function to combine multiple tim files generated by get_SimTOAs above\n",
    "def combine_tim(timfiles, outfile = \"Combined_tim_file.tim\"):\n",
    "    \"\"\"\n",
    "    This function will take a list of tim files (e.g. the files generated by the \n",
    "    gen_SimTOAs function above) and combine them into one big tim file with the name \n",
    "    of the output file designated by the 'outfile' input. Inputs;\n",
    "    \n",
    "    timfiles [list of strings] : a list of tim files to combine\n",
    "    outfile [string] : name of output file constiting of all combined TOAs\n",
    "    \"\"\"\n",
    "    tim_lines = [\"FORMAT 1 \\n\"]\n",
    "    for timfile in timfiles:\n",
    "        with open(timfile, 'r') as tf:\n",
    "            for line in tf:\n",
    "                if 'FORMAT' in line:\n",
    "                    pass\n",
    "                else:\n",
    "                    tim_lines.append(line)\n",
    "            tf.close()\n",
    "    # Now save the file\n",
    "    with open(outfile, 'w') as of:\n",
    "        of.writelines(tim_lines)\n",
    "        of.close()\n",
    "    print(\"All simulated TOAs can be found in:\", outfile)\n",
    "    return outfile"
   ]
  },
  {
   "cell_type": "code",
   "execution_count": 250,
   "metadata": {},
   "outputs": [],
   "source": [
    "# Now we will define a function that will just take a par and tim file and output the \n",
    "# residuals from that\n",
    "def get_resids(timfile, parfile, plot = False, save = False):\n",
    "    \"\"\"\n",
    "    This function will take a tim file and a par file both used and generated from and for\n",
    "    PsrSigSim simulated data and get simulated TOAs using the PINT pulsar timing python \n",
    "    package. This function requires PINT to be install to run. Inputs:\n",
    "    \n",
    "    timfile [string] : A tim file (e.g. as generated by the functions above) containing\n",
    "                       TOAs from a PSRFITS file with PsrSigSim simulated data saved to it.\n",
    "    parfile [string] : a pulsar par file (probably the same one used for the polyco \n",
    "                       generation above) used as the pulsar timing model to get timing\n",
    "                       residuals.\n",
    "    plot [bool] : If `True` will output plots of the timing residuals both as a function \n",
    "                  of MJD and as a function of frequency. \n",
    "    save [bool/string] : If not `False`, will save the plots output above with the name\n",
    "                         or string input to `save`. e.g. save=\"Plots\" will save the plots\n",
    "                         with the name \"Plots.png\". Requires plot=True to run.\n",
    "    \"\"\"\n",
    "    # read in the toas\n",
    "    t = toa.get_TOAs(timfile, ephem='DE436', usepickle=False) \n",
    "    \n",
    "    # Since there is no solar system motion input in the simulated pulsar data, we\n",
    "    # change the earth velocity to 0\n",
    "    t.table.remove_column('ssb_obs_vel')\n",
    "    t.table.columns['ssb_obs_vel'] = table.Column(name='ssb_obs_vel',\\\n",
    "                                        data=np.zeros((t.ntoas, 3), dtype=np.float64),\\\n",
    "                                        unit=u.km/u.s, meta={'origin':'SSB', 'obj':'OBS'})\n",
    "    \n",
    "    # Load in the par file to get the timing model\n",
    "    m = models.get_model(parfile)\n",
    "\n",
    "    # Now get the residuals\n",
    "    rs = r.Residuals(t, m).time_resids\n",
    "    rs_phase = r.Residuals(t, m).phase_resids\n",
    "\n",
    "    # Define the fitter and the type of fitting we are doing.\n",
    "    f = fit.GLSFitter(t, m)\n",
    "    # Need to fit for a jump for multiple frequencies to account for profile phase offsets\n",
    "    f.set_fitparams('JUMP1')\n",
    "    f.fit_toas()\n",
    "    \n",
    "    # Now we print some information about the residuals that we have\n",
    "    print(\"Best fit has reduced chi^2 of\", f.resids.chi2_reduced.value)\n",
    "    print(\"RMS in time is\", f.resids.time_resids.std().to(u.us).value, \"us\")\n",
    "    \n",
    "    # Now plot the residuals vs. MJD and frequency if desired\n",
    "    if plot:\n",
    "        fig = plt.figure(figsize = (8,4))\n",
    "        ax1 = fig.add_subplot(121)\n",
    "        # first as a function of frequency\n",
    "        ax1.errorbar(t.get_freqs().value, f.resids.time_resids.to(u.us).value, \\\n",
    "                    t.get_errors().to(u.us).value, fmt='o')\n",
    "        ax1.plot(np.linspace(350.0, 1850.0, 10), np.repeat(0.0, 10), c = 'r', ls = '--')\n",
    "        ax1.set_xlabel(r'Frequency [MHz]')\n",
    "        ax1.set_ylabel(r'${\\cal{R}}$ [$\\mu$s]')\n",
    "        # Now by MJD\n",
    "        ax2 = fig.add_subplot(122)\n",
    "        ax2.errorbar(t.get_mjds().value, f.resids.time_resids.to(u.us).value, \\\n",
    "                    t.get_errors().to(u.us).value, fmt='o')\n",
    "        ax2.plot(np.linspace(np.min(t.get_mjds().value), np.max(t.get_mjds().value), 10), \\\n",
    "                     np.repeat(0.0, 10), c = 'r', ls = '--')\n",
    "        ax2.set_xlabel(r'MJD')\n",
    "        ax2.set_ylabel(r'${\\cal{R}}$ [$\\mu$s]')\n",
    "        plt.tight_layout()\n",
    "        if save != False:\n",
    "            plt.savefig(\"%s.png\" % (save))\n",
    "        plt.show()\n",
    "        plt.close()\n",
    "    # Return the toas (for plotting), prefit residuals (rs), and postfit residuals (accessed via f)\n",
    "    return t, rs, f\n",
    "    "
   ]
  },
  {
   "cell_type": "markdown",
   "metadata": {},
   "source": [
    "Now that we have defined these convenience functions, we will use them to get our TOAs and then our timing residuals."
   ]
  },
  {
   "cell_type": "code",
   "execution_count": 251,
   "metadata": {},
   "outputs": [],
   "source": [
    "# Define the pulse profiles used to get TOAs with PSRCHIVE\n",
    "temp_Lband = \"template_files/profiles/L-band/B1855+09.L-wide.PUPPI.11y.x.sum.sm\"\n",
    "temp_430 = \"template_files/profiles/430_MHz/B1855+09.430.PUPPI.11y.x.sum.sm\"\n",
    "# Define the 1400 MHz fits files that were simulated\n",
    "fitsfile_Lband = [\"test_fits_Lband1.fits\", \"test_fits_Lband2.fits\"]\n",
    "# And a list of the 430 MHz simulated fits files\n",
    "fitsfile_430 = [\"test_fits_4301.fits\",\"test_fits_4302.fits\"]\n",
    "# and define the par file with our timing model\n",
    "parfile = \"par_files/B1855+09_NANOGrav_11yv0_example.par\""
   ]
  },
  {
   "cell_type": "markdown",
   "metadata": {},
   "source": [
    "Now we will get the TOAs from our simulated data files. We will get the 1400 MHz and 430 MHz TOAs (or tim files) separately and then combine them in to one tim file. We will fold the simulated data to have 64 frequency channels, one subintegration, and one polarization, as is usually done for the NANOGrav data sets. "
   ]
  },
  {
   "cell_type": "code",
   "execution_count": 252,
   "metadata": {},
   "outputs": [
    {
     "name": "stdout",
     "output_type": "stream",
     "text": [
      "test_fits_Lband1.f64t1p1\n",
      "test_fits_Lband2.f64t1p1\n",
      "All simulated TOAs can be found in: test_fits_Lband1.f64t1p1_ALL.tim\n",
      "test_fits_4301.f64t1p1\n",
      "test_fits_4302.f64t1p1\n",
      "All simulated TOAs can be found in: test_fits_4301.f64t1p1_ALL.tim\n",
      "All simulated TOAs can be found in: Combined_tim_file.tim\n"
     ]
    }
   ],
   "source": [
    "# Get the 1400 MHz TOAs\n",
    "timfile_Lband = getSimTOAs(fitsfile_Lband, temp_Lband, scrunch = True, nchan = 64, nsubint = 1,\\\n",
    "                     npol = 1)\n",
    "# Get the 430 MHz TOAs\n",
    "timfile_430 = getSimTOAs(fitsfile_430, temp_430, scrunch = True, nchan = 64, nsubint = 1,\\\n",
    "                     npol = 1)\n",
    "# Now combine the two tim files\n",
    "full_timfile = combine_tim([timfile_Lband, timfile_430])"
   ]
  },
  {
   "cell_type": "code",
   "execution_count": 253,
   "metadata": {},
   "outputs": [
    {
     "name": "stdout",
     "output_type": "stream",
     "text": [
      "INFO: No pulse numbers found in the TOAs [pint.toa]\n",
      "INFO: Applying clock corrections (include_GPS = True, include_BIPM = True. [pint.toa]\n",
      "INFO: Special observatory location. No clock corrections applied. [pint.observatory.special_locations]\n",
      "INFO: Computing TDB columns. [pint.toa]\n",
      "INFO: Computing positions and velocities of observatories and Earth (planets = False), using DE436 ephemeris [pint.toa]\n",
      "Best fit has reduced chi^2 of 1.045935707766027105\n",
      "RMS in time is 1.9590999006964915394 us\n"
     ]
    },
    {
     "data": {
      "image/png": "[encoded data removed]",
      "text/plain": [
       "<Figure size 576x288 with 2 Axes>"
      ]
     },
     "metadata": {
      "needs_background": "light"
     },
     "output_type": "display_data"
    }
   ],
   "source": [
    "# Now we see if we can generate timing residuals\n",
    "t, rs, f = get_resids(full_timfile, parfile, plot = True, save = False)"
   ]
  },
  {
   "cell_type": "code",
   "execution_count": 254,
   "metadata": {},
   "outputs": [
    {
     "name": "stdout",
     "output_type": "stream",
     "text": [
      "0:01:42.722792\n"
     ]
    }
   ],
   "source": [
    "print(datetime.now() - startTime)"
   ]
  }
 ],
 "metadata": {
  "kernelspec": {
   "display_name": "Python 3",
   "language": "python",
   "name": "python3"
  },
  "language_info": {
   "codemirror_mode": {
    "name": "ipython",
    "version": 3
   },
   "file_extension": ".py",
   "mimetype": "text/x-python",
   "name": "python",
   "nbconvert_exporter": "python",
   "pygments_lexer": "ipython3",
   "version": "3.7.3"
  }
 },
 "nbformat": 4,
 "nbformat_minor": 2
}
