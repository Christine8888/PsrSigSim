{
 "cells": [
  {
   "cell_type": "markdown",
   "metadata": {},
   "source": [
    "# This is a large title"
   ]
  },
  {
   "cell_type": "markdown",
   "metadata": {},
   "source": [
    "## This is smaller"
   ]
  },
  {
   "cell_type": "markdown",
   "metadata": {},
   "source": [
    "To put in list \n",
    "* First thing\n",
    "* Second thing\n",
    "    - Nested"
   ]
  },
  {
   "cell_type": "markdown",
   "metadata": {},
   "source": [
    "If I refer to the `PsrSigSim`. And if I want to write a code block then :\n",
    "``` Python\n",
    "class My_Class():\n",
    "    def __init__(self):\n",
    "        self.p=print('This string')\n",
    "```"
   ]
  },
  {
   "cell_type": "markdown",
   "metadata": {},
   "source": [
    "# Pulsar Signal Simulater: Simulation Class Tutorial"
   ]
  },
  {
   "cell_type": "markdown",
   "metadata": {},
   "source": [
    "This notebooke is a tutorial that teaches how to use the new simulation class, within the Pulsar Signal Simulator, to to simulate observing runs. "
   ]
  },
  {
   "cell_type": "markdown",
   "metadata": {},
   "source": [
    "### Loading the simulator"
   ]
  },
  {
   "cell_type": "markdown",
   "metadata": {},
   "source": [
    "The first thing to do is to load the Simulator. To load the simulator you will need to use the code below:\n",
    "``` Python\n",
    "import sys\n",
    "sys.path.append('/file/path/to/PsrSigsim/')\n",
    "import psrsigsim as PSS```\n",
    "Run the cell below with the filepath to `PsrSigSim` within `VersionZeroPointZero`.\n"
   ]
  },
  {
   "cell_type": "code",
   "execution_count": 1,
   "metadata": {},
   "outputs": [
    {
     "name": "stderr",
     "output_type": "stream",
     "text": [
      "/Users/jacobhesse/anaconda/lib/python3.6/site-packages/h5py/__init__.py:36: FutureWarning: Conversion of the second argument of issubdtype from `float` to `np.floating` is deprecated. In future, it will be treated as `np.float64 == np.dtype(float).type`.\n",
      "  from ._conv import register_converters as _register_converters\n"
     ]
    }
   ],
   "source": [
    "%load_ext autoreload\n",
    "%autoreload 2\n",
    "#import sys\n",
    "#sys.path.append('/Users/jacobhesse/Documents/Bothell/pulsar_sim/VersionZeroPointZero/')\n",
    "import psrsigsim as PSS\n"
   ]
  },
  {
   "cell_type": "markdown",
   "metadata": {},
   "source": [
    "### Setting up a dictionary of parameters"
   ]
  },
  {
   "cell_type": "markdown",
   "metadata": {},
   "source": [
    "The simulation class works by taking, as input, a dictionary of parameters or a pulsar name and a smaller dictionary of parameters. The next thing to do is to set up the dictionary of parameters that is needed for the simulation. Below is an example dictionary for a basic simulation that only uses the signal and pulsar classes."
   ]
  },
  {
   "cell_type": "code",
   "execution_count": 2,
   "metadata": {
    "collapsed": true
   },
   "outputs": [],
   "source": [
    "test_dict = {}\n",
    "test_dict['f0'] = 1400\n",
    "test_dict['bw'] =400\n",
    "test_dict['Nf'] = 50\n",
    "test_dict['data_type']='int8'\n",
    "test_dict['SignalType'] = \"intensity\"\n",
    "test_dict['freq_band'] = 1400\n",
    "test_dict['ObsTime'] = 10\n",
    "test_dict['flux'] = 3\n",
    "test_dict['f_samp'] = 4\n",
    "test_dict['radiometer_noise'] =  False"
   ]
  },
  {
   "cell_type": "markdown",
   "metadata": {},
   "source": [
    "## Using the simulator with a pulsar name"
   ]
  },
  {
   "cell_type": "markdown",
   "metadata": {},
   "source": [
    "The simulator works by calling the simulator and inputting a handful of variables. The three main variables are the pulsar name, the telescope name, and the parameter dictionary. The other two variables, `sim_telescope` and `sim_ism` will be discussed later. \n",
    "\n",
    "The first command in creating a simulation is calling the `Simulation` class. Doing this sets the pulsar name, telescope name, and the dictionary of parameters that will be used by the methods within the class."
   ]
  },
  {
   "cell_type": "code",
   "execution_count": 3,
   "metadata": {},
   "outputs": [
    {
     "name": "stdout",
     "output_type": "stream",
     "text": [
      "INFO: Using ICRS equatorial coordinate. The parameter KOM is measured respect to equatorial North. [pint.models.binary_ddk]\n",
      "Five warnings should appear. Warnings that are normal are: Unrecognized parfile line \"SOLARN0\", \"T2CMETHOD\", \"MODE\", \"INFO -f\". Warning about \"DDK model\" is also normal.  \n"
     ]
    },
    {
     "name": "stderr",
     "output_type": "stream",
     "text": [
      "WARNING: Unrecognized parfile line 'SOLARN0               0.00' [pint.models.timing_model]\n",
      "WARNING: Unrecognized parfile line 'T2CMETHOD           TEMPO' [pint.models.timing_model]\n",
      "WARNING: Unrecognized parfile line 'MODE                     1' [pint.models.timing_model]\n",
      "WARNING: Unrecognized parfile line 'INFO -f' [pint.models.timing_model]\n",
      "WARNING: DDK model uses KIN as inclination angle. SINI will not be used. [pint.models.stand_alone_psr_binaries.DDK_model]\n"
     ]
    }
   ],
   "source": [
    "s1 =  PSS.Simulation(psr =  'J1713+0747' , sim_telescope= 'GBT',sim_ism= None, sim_scint= None, sim_dict = test_dict,)"
   ]
  },
  {
   "cell_type": "markdown",
   "metadata": {},
   "source": [
    "When the `Simulation` class is called with a specfic pulsar name as input, the simulator automatically initializes the signal and pulsar. It also initializes a telescope class if a telescope is input to `sim_telescope`. To include the ism class and scintilation class, input `sim_ism` and `sim_scint` as true.\n",
    "\n",
    "To finalize the simulation, call the simulate command."
   ]
  },
  {
   "cell_type": "code",
   "execution_count": 4,
   "metadata": {
    "collapsed": true
   },
   "outputs": [],
   "source": [
    "s1.simulate()"
   ]
  },
  {
   "cell_type": "markdown",
   "metadata": {},
   "source": [
    "Once `simulate` is complete, you can check the simulation. One thing you can look at is the pulse plot of the simulation. This is done by using the `pulse_plot()` command. A filter bank plot can aslo be shown by using the `filter_bank()` command."
   ]
  },
  {
   "cell_type": "code",
   "execution_count": 5,
   "metadata": {},
   "outputs": [
    {
     "data": {
      "image/png": "[encoded data removed]",
      "text/plain": [
       "<Figure size 432x288 with 1 Axes>"
      ]
     },
     "metadata": {},
     "output_type": "display_data"
    },
    {
     "data": {
      "image/png": "[encoded data removed]",
      "text/plain": [
       "<Figure size 432x288 with 1 Axes>"
      ]
     },
     "metadata": {},
     "output_type": "display_data"
    }
   ],
   "source": [
    "s1.signal.pulse_plot()\n",
    "s1.signal.filter_bank()"
   ]
  },
  {
   "cell_type": "markdown",
   "metadata": {},
   "source": [
    "### Adding in ism and scint classes"
   ]
  },
  {
   "cell_type": "markdown",
   "metadata": {},
   "source": [
    "The way to add the ism and scint classes is to change `sim_ism` and `sim_scint` to True. By doing this the simulator knows to initialize those classes when it is called. These classes require a few more parameters to run. What needs to be added is shown below."
   ]
  },
  {
   "cell_type": "code",
   "execution_count": 6,
   "metadata": {
    "collapsed": true
   },
   "outputs": [],
   "source": [
    "test_dict['tau_scatter'] =6e-08\n",
    "test_dict['to_DM_Broaden'] = False"
   ]
  },
  {
   "cell_type": "markdown",
   "metadata": {},
   "source": [
    "Now you can run another simulation, and change `sim_ism` and `sim_scint` to True to see the changes these classes make."
   ]
  },
  {
   "cell_type": "code",
   "execution_count": 7,
   "metadata": {},
   "outputs": [
    {
     "name": "stderr",
     "output_type": "stream",
     "text": [
      "WARNING: Unrecognized parfile line 'SOLARN0               0.00' [pint.models.timing_model]\n",
      "WARNING: Unrecognized parfile line 'T2CMETHOD           TEMPO' [pint.models.timing_model]\n",
      "WARNING: Unrecognized parfile line 'MODE                     1' [pint.models.timing_model]\n",
      "WARNING: Unrecognized parfile line 'INFO -f' [pint.models.timing_model]\n",
      "WARNING: DDK model uses KIN as inclination angle. SINI will not be used. [pint.models.stand_alone_psr_binaries.DDK_model]\n"
     ]
    },
    {
     "name": "stdout",
     "output_type": "stream",
     "text": [
      "INFO: Using ICRS equatorial coordinate. The parameter KOM is measured respect to equatorial North. [pint.models.binary_ddk]\n",
      "Five warnings should appear. Warnings that are normal are: Unrecognized parfile line \"SOLARN0\", \"T2CMETHOD\", \"MODE\", \"INFO -f\". Warning about \"DDK model\" is also normal.  \n",
      "Central Frequency decorrelation Bandwidth =  15.6  MHz\n"
     ]
    }
   ],
   "source": [
    "s2 =  PSS.Simulation(psr =  'J1713+0747' , sim_telescope= 'GBT',sim_ism= True, sim_scint= True, sim_dict = test_dict,)"
   ]
  },
  {
   "cell_type": "code",
   "execution_count": 8,
   "metadata": {},
   "outputs": [
    {
     "name": "stdout",
     "output_type": "stream",
     "text": [
      "100% dispersed in 0.624 seconds."
     ]
    },
    {
     "data": {
      "image/png": "[encoded data removed]",
      "text/plain": [
       "<Figure size 432x288 with 1 Axes>"
      ]
     },
     "metadata": {},
     "output_type": "display_data"
    },
    {
     "data": {
      "image/png": "[encoded data removed]",
      "text/plain": [
       "<Figure size 432x288 with 1 Axes>"
      ]
     },
     "metadata": {},
     "output_type": "display_data"
    }
   ],
   "source": [
    "s2.simulate()\n",
    "s2.signal.pulse_plot()\n",
    "s2.signal.filter_bank()"
   ]
  },
  {
   "cell_type": "markdown",
   "metadata": {},
   "source": [
    "## Using the simulator with no pulsar name"
   ]
  },
  {
   "cell_type": "markdown",
   "metadata": {},
   "source": [
    "The simulator can also be used without the input of a pulsr name. Though, this requires a few parameters to be added to the dictionary. When a pulsar name is inputfour parameters (F0,dm,scint_bw, scint_timescale) are retrieved from a few data files. These parameters now need to be added to the dictionary."
   ]
  },
  {
   "cell_type": "code",
   "execution_count": 9,
   "metadata": {
    "collapsed": true
   },
   "outputs": [],
   "source": [
    "test_dict['F0'] = 218\n",
    "test_dict['dm'] = 15.91731\n",
    "test_dict['scint_bw'] =  15.6\n",
    "test_dict['scint_timescale'] = 2630"
   ]
  },
  {
   "cell_type": "markdown",
   "metadata": {},
   "source": [
    "Now that the parameter dictionary is updated we can call the simulator again. This time `psr` will be changed to None since the four above parameters were added to the dictionary. `sim_ism` and `sim_scint` are also changed to None since these inputs are only called when a pulsar name is given."
   ]
  },
  {
   "cell_type": "code",
   "execution_count": null,
   "metadata": {
    "collapsed": true
   },
   "outputs": [],
   "source": [
    "s3 =  PSS.Simulation(psr =  None , sim_telescope= 'GBT',sim_ism= None, sim_scint= None, sim_dict = test_dict,)"
   ]
  },
  {
   "cell_type": "markdown",
   "metadata": {},
   "source": [
    "Now that the simulator has been called the classes need to be initialzed. When a pulsar name in an input this is done automatically. However, when a pulsar name is not given this need to be done manually. The signal class and pulsar class need to be initialized for evry simulation."
   ]
  },
  {
   "cell_type": "code",
   "execution_count": null,
   "metadata": {
    "collapsed": true
   },
   "outputs": [],
   "source": [
    "s3.init_signal()\n",
    "s3.init_pulsar()"
   ]
  },
  {
   "cell_type": "markdown",
   "metadata": {},
   "source": [
    "The other three classes (ism, scint, and telescope) are optional and can be added or removed based on the goals of the simulation. They can be added using their inialization functions, as shown below."
   ]
  },
  {
   "cell_type": "code",
   "execution_count": null,
   "metadata": {
    "collapsed": true
   },
   "outputs": [],
   "source": [
    "s3.init_ism()\n",
    "s3.init_telescope()"
   ]
  },
  {
   "cell_type": "markdown",
   "metadata": {},
   "source": [
    "Once all of the desired classes are initialized, the simulation needs to be finalized using the simulate command."
   ]
  },
  {
   "cell_type": "code",
   "execution_count": null,
   "metadata": {},
   "outputs": [],
   "source": [
    "s3.simulate()"
   ]
  },
  {
   "cell_type": "markdown",
   "metadata": {},
   "source": [
    "Now that the simulation is complete, a pulse plot and filter bank plot can be shown."
   ]
  },
  {
   "cell_type": "code",
   "execution_count": null,
   "metadata": {},
   "outputs": [],
   "source": [
    "s3.signal.pulse_plot()\n",
    "s3.signal.filter_bank()"
   ]
  },
  {
   "cell_type": "markdown",
   "metadata": {},
   "source": [
    "These plot functions can be adjusted to show more than one pulse. This can be done by adding in the number of pulses you want to see into the function input."
   ]
  },
  {
   "cell_type": "code",
   "execution_count": null,
   "metadata": {},
   "outputs": [],
   "source": [
    "s3.signal.pulse_plot(N_pulses=2)\n",
    "s3.signal.filter_bank(N_pulses = 2)"
   ]
  },
  {
   "cell_type": "markdown",
   "metadata": {},
   "source": [
    "# Using get_pint_models()"
   ]
  },
  {
   "cell_type": "markdown",
   "metadata": {},
   "source": [
    "This is a function that retrives parameters from a par file of a given pulsar. To use the fucntion a pulsar name and file path to where the file is located is needed as input. Once the function is called, the different parameters are stored as attributes.\n",
    "\n",
    "Change the path below to be a path to a parfile on your machine, then run the cell.\n",
    "\n",
    "When this command runs a few warnings should pop up. This is normal for the command and it does not mean the command did not work. "
   ]
  },
  {
   "cell_type": "code",
   "execution_count": null,
   "metadata": {},
   "outputs": [],
   "source": [
    "path ='/Users/jacobhesse/Documents/Bothell/pulsar_sim/VersionZeroPointZero/psrsigsim/data/'\n",
    "p = PSS.PSS_utils.get_pint_models(psr_name= 'J1713+0747', psr_file_path= path)"
   ]
  },
  {
   "cell_type": "markdown",
   "metadata": {},
   "source": [
    "Once the function has run the values and units of the parameters can be retrieved. By using the variable name, the dersired parameter, and value, a specfic value can be retrieved."
   ]
  },
  {
   "cell_type": "code",
   "execution_count": null,
   "metadata": {},
   "outputs": [],
   "source": [
    "p.DM.value"
   ]
  },
  {
   "cell_type": "markdown",
   "metadata": {},
   "source": [
    "The units of a paramater can also be retrieved. This is done by changing 'value' to 'units'."
   ]
  },
  {
   "cell_type": "code",
   "execution_count": null,
   "metadata": {},
   "outputs": [],
   "source": [
    "p.DM.units"
   ]
  }
 ],
 "metadata": {
  "kernelspec": {
   "display_name": "Python 3",
   "language": "python",
   "name": "python3"
  },
  "language_info": {
   "codemirror_mode": {
    "name": "ipython",
    "version": 3
   },
   "file_extension": ".py",
   "mimetype": "text/x-python",
   "name": "python",
   "nbconvert_exporter": "python",
   "pygments_lexer": "ipython3",
   "version": "3.6.1"
  }
 },
 "nbformat": 4,
 "nbformat_minor": 2
}
